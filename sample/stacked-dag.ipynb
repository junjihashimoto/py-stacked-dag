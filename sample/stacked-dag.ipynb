{
 "cells": [
  {
   "cell_type": "code",
   "execution_count": 1,
   "metadata": {},
   "outputs": [
    {
     "name": "stderr",
     "output_type": "stream",
     "text": [
      "/home/junji-hashimoto/git/py-stacked-dag/.tox/py36/lib/python3.6/importlib/_bootstrap.py:219: RuntimeWarning: compiletime version 3.5 of module 'tensorflow.python.framework.fast_tensor_util' does not match runtime version 3.6\n",
      "  return f(*args, **kwds)\n"
     ]
    }
   ],
   "source": [
    "import tensorflow as tf\n",
    "import stackeddag.tf as sd"
   ]
  },
  {
   "cell_type": "code",
   "execution_count": 2,
   "metadata": {},
   "outputs": [],
   "source": [
    "calc_g = tf.Graph()"
   ]
  },
  {
   "cell_type": "code",
   "execution_count": 3,
   "metadata": {},
   "outputs": [],
   "source": [
    "with calc_g.as_default():\n",
    "    a = tf.constant(1, name=\"a\")\n",
    "    b = tf.constant(2, name=\"b\")\n",
    "    c = tf.add(a, b, name=\"add\")"
   ]
  },
  {
   "cell_type": "code",
   "execution_count": 4,
   "metadata": {
    "scrolled": true
   },
   "outputs": [
    {
     "name": "stdout",
     "output_type": "stream",
     "text": [
      "o o    a,b\n",
      "|/\n",
      "o    add\n"
     ]
    }
   ],
   "source": [
    "print(sd.fromGraph(calc_g),end=\"\")"
   ]
  },
  {
   "cell_type": "code",
   "execution_count": 5,
   "metadata": {},
   "outputs": [],
   "source": [
    "reg_g = tf.Graph()"
   ]
  },
  {
   "cell_type": "code",
   "execution_count": 6,
   "metadata": {},
   "outputs": [],
   "source": [
    "with reg_g.as_default():\n",
    "    import numpy as np\n",
    "    x_data = np.random.rand(100).astype(np.float32)\n",
    "    y_data = x_data * 0.1 + 0.3\n",
    "    W = tf.Variable(tf.random_uniform([1], -1.0, 1.0))\n",
    "    b = tf.Variable(tf.zeros([1]))\n",
    "    y = W * x_data + b\n",
    "#    loss = tf.reduce_mean(tf.square(y - y_data))\n",
    "#    optimizer = tf.train.GradientDescentOptimizer(0.5)\n",
    "#    train = optimizer.minimize(loss)"
   ]
  },
  {
   "cell_type": "code",
   "execution_count": 7,
   "metadata": {},
   "outputs": [
    {
     "name": "stdout",
     "output_type": "stream",
     "text": [
      "o o o    random_uniform/{max,min,shape}\n",
      " \\|x\n",
      " /|  \\\n",
      "o o o |    random_uniform/RandomUniform,random_uniform/sub,Variable\n",
      "|/ / \\ \\\n",
      "| |    \\ \\\n",
      "o o o o | |    random_uniform/mul,Variable/read,Variable_1,mul/y\n",
      "| | |x __x\n",
      "| |/|/ \\  |\n",
      "| |/|   | |\n",
      "|/| |   | |\n",
      "o o o o | |    random_uniform,mul,Variable_1/read,zeros\n",
      "| |/ /_/ /\n",
      "| | |__/\n",
      "| |/|\n",
      "|/| |\n",
      "o o o    Variable/Assign,add,Variable_1/Assign\n"
     ]
    }
   ],
   "source": [
    "print(sd.fromGraph(reg_g),end=\"\")"
   ]
  },
  {
   "cell_type": "code",
   "execution_count": 8,
   "metadata": {},
   "outputs": [],
   "source": [
    "mnist_g = tf.Graph()"
   ]
  },
  {
   "cell_type": "code",
   "execution_count": 9,
   "metadata": {},
   "outputs": [],
   "source": [
    "with mnist_g.as_default():\n",
    "    x = tf.placeholder(tf.float32, [None, 784])\n",
    "    W = tf.Variable(tf.zeros([784, 10]))\n",
    "    b = tf.Variable(tf.zeros([10]))\n",
    "    y = tf.nn.softmax(tf.matmul(x, W) + b)\n",
    "    y_ = tf.placeholder(tf.float32, [None, 10])\n",
    "    cross_entropy = tf.reduce_mean(-tf.reduce_sum(y_ * tf.log(y), reduction_indices=[1]))\n",
    "    train_step = tf.train.GradientDescentOptimizer(0.5).minimize(cross_entropy)"
   ]
  },
  {
   "cell_type": "code",
   "execution_count": 10,
   "metadata": {},
   "outputs": [
    {
     "name": "stdout",
     "output_type": "stream",
     "text": [
      "o    Variable\n",
      "|\\\n",
      "|  \\\n",
      "|    \\\n",
      "o o o |    Variable/read,Placeholder,Variable_1\n",
      "|x x \\ \\\n",
      "| |\\ \\ \\ \\\n",
      "o o | | | |    MatMul,Variable_1/read\n",
      "|x  | | | |\n",
      "o | | | | |    add\n",
      "| | | | | |\n",
      "o | | | | |    Softmax\n",
      "|\\ \\ \\ \\ \\ \\\n",
      "|  \\ \\ \\ \\ \\ \\\n",
      "o o | | | | | |    Log,Placeholder_1\n",
      "|x \\ \\ \\ \\ \\ \\ \\\n",
      "|  \\ \\ \\ \\ \\ \\ \\ \\\n",
      "o o | | | | | | | |    mul,Sum/reduction_indices\n",
      "|x \\ \\ \\ \\ \\ \\ \\ \\ \\\n",
      "o | | | | | | | | | |    Sum\n",
      "|  \\ \\ \\ \\ \\ \\ \\ \\ \\ \\\n",
      "|    \\ \\ \\ \\ \\ \\ \\ \\ \\ \\\n",
      "o o o | | | | | | | | | |    Neg,gradients/Mean_grad/Const_1,gradients/Mean_grad/Shape_2\n",
      "|\\|/   \\ \\ \\ \\ \\ \\ \\ \\ \\ \\\n",
      "| |\\     \\ \\ \\ \\ \\ \\ \\ \\ \\ \\\n",
      "| |  \\     \\ \\ \\ \\ \\ \\ \\ \\ \\ \\\n",
      "| |    \\     \\ \\ \\ \\ \\ \\ \\ \\ \\ \\\n",
      "| |      \\    | | | | | | | | | |\n",
      "| |        \\  | | | | | | | | | |\n",
      "o o o o o o | | | | | | | | | | |    gradients/{Mean_grad/Shape_1,Mean_grad/Prod_1,Const,Mean_grad/Const,Mean_grad/Maximum/y,Shape}\n",
      "| | |/ / / / / / / / / / / / / /\n",
      "| |/|/ /  | | | | | | | | | | |\n",
      "|/|/|/    | | | | | | | | | | |\n",
      "o o o o o | | | | | | | | | | |    gradients/{Mean_grad/Prod,Mean_grad/Maximum,Fill,Mean_grad/Reshape/shape,Sum_grad/Size}\n",
      "|/  |/ / x \\ x   \\ \\ \\ \\ \\ \\ \\ \\\n",
      "|   | |/ __x \\ \\   \\ \\ \\ \\ \\ \\ \\ \\\n",
      "|   |/|/     \\ \\ \\   \\ \\ \\ \\ \\ \\ \\ \\\n",
      "|  /| |        \\ \\ \\  | | | | | | | |\n",
      "o o o o o o o o | | | | | | | | | | |    gradients/{Mean_grad/floordiv,Mean_grad/Shape,Mean_grad/Reshape,Sum_grad/add,Sum_grad/Fill/value,Sum_grad/Shape_1,Sum_grad/range/delta,Sum_grad/range/start}\n",
      "| |/  | |/ /_/_/ / / / / / / / / / /\n",
      "| |   | | |__/ / / / / / / / / / /\n",
      "| |   | |/|  / / / / / / / / / /\n",
      "| |   |/| | |/ / / / / / / / /\n",
      "| |   | | |/| | | | | | | | |\n",
      "| |   | |/| | | | | | | | | |\n",
      "| |   |/| | | | | | | | | | |\n",
      "| |  /| | | | | | | | | | | |\n",
      "o o o o o o | | | | | | | | |    gradients/{Mean_grad/Cast,Mean_grad/Tile,Sum_grad/Shape,Sum_grad/mod,Sum_grad/Fill,Sum_grad/range}\n",
      "|/ /_x_/_/ / / / / / / / / /\n",
      "| |   |  / / / / / / / / /\n",
      "o o o | | | | | | | | | |    gradients/{Mean_grad/truediv,Sum_grad/DynamicStitch,Sum_grad/Maximum/y}\n",
      "| |x  | | | | | | | | | |\n",
      "o o | | | | | | | | | | |    gradients/{Neg_grad/Neg,Sum_grad/Maximum}\n",
      "| |/ / / / / / / / / / /\n",
      "|/|/ / / / / / / / / /\n",
      "o o | | | | | | | | |    gradients/Sum_grad/{Reshape,floordiv}\n",
      "|/ __x x \\ \\ \\ \\ \\ \\ \\\n",
      "| |  /| | | | | | | | |\n",
      "o o o | | | | | | | | |    gradients/{Sum_grad/Tile,mul_grad/Shape_1,mul_grad/Shape}\n",
      "|\\ \\|\\ x /  | | | | | |\n",
      "| | |x x \\  | | | | | |\n",
      "| |/|/| | | | | | | | |\n",
      "|/|/| | | | | | | | | |\n",
      "o o o | | | | | | | | |    gradients/mul_grad/{mul,mul_1,BroadcastGradientArgs}\n",
      "| |/ / / / / / / / / /\n",
      "|/| | | | | | | | | |\n",
      "o o | | | | | | | | |    gradients/mul_grad/Sum{,_1}\n",
      "| |/ / / / / / / / /\n",
      "| |/ / / / / / / /\n",
      "|/| | | | | | | |\n",
      "o o | | | | | | |    gradients/mul_grad/Reshape{,_1}\n",
      "|x \\ \\ \\ \\ \\ \\ \\ \\\n",
      "o | | | | | | | | |    gradients/mul_grad/tuple/group_deps\n",
      "|\\ x  | | | | | | |\n",
      "|/| | | | | | | | |\n",
      "o | | | | | | | | |    gradients/mul_grad/tuple/control_dependency_1\n",
      "|\\ \\ \\ x \\ \\ \\ \\ \\ \\\n",
      "| | |/| | | | | | | |\n",
      "| |/| | | | | | | | |\n",
      "|/| | | | | | | | | |\n",
      "o | | | | | | | | | |    gradients/Log_grad/Reciprocal\n",
      "|/ / / / / / / / / /\n",
      "o | | | | | | | | |    gradients/Log_grad/mul\n",
      "|\\ \\ \\ x \\ \\ \\ \\ \\ \\\n",
      "|  \\ x \\ \\ \\ \\ \\ \\ \\ \\\n",
      "|__/| | | | | | | | | |\n",
      "o o | | | | | | | | | |    gradients/Softmax_grad/{mul,Sum/reduction_indices}\n",
      "|/  | | | | | | | | | |\n",
      "o o | | | | | | | | | |    gradients/Softmax_grad/{Sum,Reshape/shape}\n",
      "|/ / / / / / / / / / /\n",
      "o | | | | | | | | | |    gradients/Softmax_grad/Reshape\n",
      "|/   \\ \\ \\ x  | | | |\n",
      "|     | |/| | | | | |\n",
      "|     |/| | | | | | |\n",
      "|  __/| | | | | | | |\n",
      "o o o | | | | | | | |    gradients/{Softmax_grad/sub,add_grad/Shape,add_grad/Shape_1}\n",
      "| |x \\ \\ \\ x  | | | |\n",
      "| | | | |/| | | | | |\n",
      "| | | |/| | | | | | |\n",
      "| | |/| | | | | | | |\n",
      "| |/| | | | | | | | |\n",
      "|/| | | | | | | | | |\n",
      "o o | | | | | | | | |    gradients/{Softmax_grad/mul_1,add_grad/BroadcastGradientArgs}\n",
      "|x| | | | | | | | | |\n",
      "o o | | | | | | | | |    gradients/add_grad/Sum{,_1}\n",
      "| |/ / / / / / / / /\n",
      "|/|/ / / / / / / /\n",
      "o o | | | | | | |    gradients/add_grad/Reshape{,_1}\n",
      "|x \\ \\ \\ \\ \\ \\ \\ \\\n",
      "o | | | | | | | | |    gradients/add_grad/tuple/group_deps\n",
      "|x  | | | | | | | |\n",
      "o | | | | | | | | |    gradients/add_grad/tuple/control_dependency\n",
      "|\\ \\ \\ \\ \\ x / / /\n",
      "| | | | |/|/| | |\n",
      "| | | |/|/| | | |\n",
      "| | |/|/| | | | |\n",
      "| |/|/| | | | | |\n",
      "|/|/| | | | | | |\n",
      "o o | | | | | | |    gradients/MatMul_grad/MatMul{,_1}\n",
      "|x \\ \\ \\ \\ \\ \\ \\ \\\n",
      "o | | | | | | | | |    gradients/MatMul_grad/tuple/group_deps\n",
      "|\\ x /_/  | | | | |\n",
      "|/ x \\    | | | | |\n",
      "| |  \\ \\  | | | | |\n",
      "o o o | | | | | | |    gradients/MatMul_grad/tuple/control_dependency_1,gradients/add_grad/tuple/control_dependency_1,GradientDescent/learning_rate\n",
      "| |/   \\ \\ \\ \\ x x \\\n",
      "|/|      \\ \\ x x \\ \\ \\\n",
      "| |       |/|/| | | | |\n",
      "| |______/|/| | | | | |\n",
      "| |______/| | | | | | |\n",
      "|/|       | | | | | | |\n",
      "o o o o o | | | | | | |    GradientDescent/update_Variable/ApplyGradientDescent,GradientDescent/update_Variable_1/ApplyGradientDescent,Const,zeros,zeros_1\n",
      "|/   \\ \\ x / /_/ / / /\n",
      "|     |/|/|/ __/ / /\n",
      "|  __/|/|/|/ __/ /\n",
      "| |__/|/|/|/ __/\n",
      "| |  /|/| |/\n",
      "| | | | |/|\n",
      "o o o o o o    GradientDescent,gradients/MatMul_grad/tuple/control_dependency,gradients/mul_grad/tuple/control_dependency,Mean,Variable/Assign,Variable_1/Assign\n"
     ]
    }
   ],
   "source": [
    "print(sd.fromGraph(mnist_g),end=\"\")"
   ]
  },
  {
   "cell_type": "code",
   "execution_count": null,
   "metadata": {},
   "outputs": [],
   "source": []
  }
 ],
 "metadata": {
  "kernelspec": {
   "display_name": "Python 3",
   "language": "python",
   "name": "python3"
  },
  "language_info": {
   "codemirror_mode": {
    "name": "ipython",
    "version": 3
   },
   "file_extension": ".py",
   "mimetype": "text/x-python",
   "name": "python",
   "nbconvert_exporter": "python",
   "pygments_lexer": "ipython3",
   "version": "3.6.4"
  }
 },
 "nbformat": 4,
 "nbformat_minor": 2
}
